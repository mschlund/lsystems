{
 "cells": [
  {
   "cell_type": "code",
   "execution_count": null,
   "metadata": {},
   "outputs": [],
   "source": [
    "%load_ext autoreload\n",
    "%autoreload 2"
   ]
  },
  {
   "cell_type": "code",
   "execution_count": null,
   "metadata": {},
   "outputs": [],
   "source": [
    "import IPython.display as id\n",
    "import numpy as np\n",
    "import lsystems\n",
    "from lsystems import curves"
   ]
  },
  {
   "cell_type": "code",
   "execution_count": null,
   "metadata": {},
   "outputs": [],
   "source": [
    "sierp = curves.Sierpinski(width=5)\n",
    "id.display_svg(sierp.run_curved(8, writeOutput=True), raw=True)"
   ]
  },
  {
   "cell_type": "code",
   "execution_count": null,
   "metadata": {},
   "outputs": [],
   "source": [
    "dragon = curves.Dragon(width=5)\n",
    "id.display_svg(dragon.run(9, writeOutput=True), raw=True)"
   ]
  },
  {
   "cell_type": "code",
   "execution_count": null,
   "metadata": {},
   "outputs": [],
   "source": [
    "hilb = curves.Hilbert()\n",
    "id.display_svg(hilb.run_curved(5, writeOutput=True), raw=True)"
   ]
  },
  {
   "cell_type": "code",
   "execution_count": null,
   "metadata": {},
   "outputs": [],
   "source": [
    "peano = curves.FractalPeano()\n",
    "id.display_svg(peano.run_curved(3, writeOutput=True), raw=True)"
   ]
  },
  {
   "cell_type": "code",
   "execution_count": null,
   "metadata": {},
   "outputs": [],
   "source": [
    "hend = curves.Hendragon()\n",
    "id.display_svg(hend.run_curved(3, writeOutput=True), raw=True)"
   ]
  },
  {
   "cell_type": "code",
   "execution_count": null,
   "metadata": {},
   "outputs": [],
   "source": [
    "hend_space_filling = curves.Hendragon2(width=2)\n",
    "id.display_svg(hend_space_filling.run_curved(4, writeOutput=True), raw=True)"
   ]
  },
  {
   "cell_type": "code",
   "execution_count": null,
   "metadata": {},
   "outputs": [],
   "source": [
    "plant = curves.FractalPlant(width=2)\n",
    "id.display_svg(plant.run(6, writeOutput=True), raw=True)"
   ]
  }
 ],
 "metadata": {
  "kernelspec": {
   "display_name": "lsystems",
   "language": "python",
   "name": "python3"
  },
  "language_info": {
   "codemirror_mode": {
    "name": "ipython",
    "version": 3
   },
   "file_extension": ".py",
   "mimetype": "text/x-python",
   "name": "python",
   "nbconvert_exporter": "python",
   "pygments_lexer": "ipython3",
   "version": "3.11.0rc1"
  },
  "vscode": {
   "interpreter": {
    "hash": "00653af14d08f793e1786f0933d8ba4b3bd263815b54635d1ddca0306b4a6604"
   }
  }
 },
 "nbformat": 4,
 "nbformat_minor": 2
}
