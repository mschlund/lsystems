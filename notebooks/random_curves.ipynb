{
 "cells": [
  {
   "cell_type": "code",
   "execution_count": 2,
   "metadata": {},
   "outputs": [
    {
     "name": "stdout",
     "output_type": "stream",
     "text": [
      "The autoreload extension is already loaded. To reload it, use:\n",
      "  %reload_ext autoreload\n"
     ]
    }
   ],
   "source": [
    "%load_ext autoreload\n",
    "%autoreload 2\n",
    "\n",
    "import os\n",
    "import IPython.display as id\n",
    "import numpy as np\n",
    "import lsystems\n",
    "from lsystems import curves\n",
    "from lsystems import plotting as myplt"
   ]
  },
  {
   "attachments": {},
   "cell_type": "markdown",
   "metadata": {},
   "source": [
    "## Draw random curves\n",
    "Using a custom plotting-function"
   ]
  },
  {
   "cell_type": "code",
   "execution_count": 9,
   "metadata": {},
   "outputs": [],
   "source": [
    "myplt.draw_random_curves(curves.Sierpinski, \"curves_sierpinski\")"
   ]
  },
  {
   "cell_type": "code",
   "execution_count": 11,
   "metadata": {},
   "outputs": [],
   "source": [
    "myplt.draw_random_curves(curves.Hilbert, \"curves_hilbert\")"
   ]
  },
  {
   "cell_type": "code",
   "execution_count": 14,
   "metadata": {},
   "outputs": [],
   "source": [
    "myplt.draw_random_curves(curves.FractalPeano, \"curves_fractal_peano\")"
   ]
  },
  {
   "cell_type": "code",
   "execution_count": 13,
   "metadata": {},
   "outputs": [],
   "source": [
    "myplt.draw_random_curves(curves.Hendragon, \"curves_hendragon1\")"
   ]
  },
  {
   "cell_type": "code",
   "execution_count": 12,
   "metadata": {},
   "outputs": [],
   "source": [
    "myplt.draw_random_curves(curves.Hendragon2, \"curves_hendragon2\")"
   ]
  }
 ],
 "metadata": {
  "kernelspec": {
   "display_name": "lsystems-7PSGQ62c-py3.11",
   "language": "python",
   "name": "python3"
  },
  "language_info": {
   "codemirror_mode": {
    "name": "ipython",
    "version": 3
   },
   "file_extension": ".py",
   "mimetype": "text/x-python",
   "name": "python",
   "nbconvert_exporter": "python",
   "pygments_lexer": "ipython3",
   "version": "3.11.0rc1 (main, Aug 12 2022, 10:02:14) [GCC 11.2.0]"
  },
  "orig_nbformat": 4,
  "vscode": {
   "interpreter": {
    "hash": "4509c6ec7bd7711d6bd10e6b16c4d86d149c51fedb6cee736624d6c53363aeea"
   }
  }
 },
 "nbformat": 4,
 "nbformat_minor": 2
}
