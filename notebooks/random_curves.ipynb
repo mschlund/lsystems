{
 "cells": [
  {
   "cell_type": "code",
   "execution_count": null,
   "metadata": {},
   "outputs": [],
   "source": [
    "%load_ext autoreload\n",
    "%autoreload 2\n",
    "\n",
    "import os\n",
    "import IPython.display as id\n",
    "import numpy as np\n",
    "import lsystems\n",
    "from lsystems import curves\n",
    "from lsystems import plotting as myplt"
   ]
  },
  {
   "attachments": {},
   "cell_type": "markdown",
   "metadata": {},
   "source": [
    "## Draw random curves\n",
    "Using a custom plotting-function"
   ]
  },
  {
   "cell_type": "code",
   "execution_count": null,
   "metadata": {},
   "outputs": [],
   "source": [
    "# these all look kind of boring:\n",
    "#myplt.draw_random_curves(curves.Sierpinski, \"curves_sierpinski\")\n",
    "#myplt.draw_random_curves(curves.Hilbert, \"curves_hilbert\")\n",
    "#myplt.draw_random_curves(curves.FractalPeano, \"curves_fractal_peano\")\n",
    "#myplt.draw_random_curves(curves.Hendragon, \"curves_hendragon1\")\n",
    "#myplt.draw_random_curves(curves.Hendragon2, \"curves_hendragon2\")"
   ]
  },
  {
   "cell_type": "code",
   "execution_count": null,
   "metadata": {},
   "outputs": [],
   "source": [
    "# \"[+XXXX[-+F\" is one found by random generation that looks good :)\n",
    "# \"FXXX[-XFX[\" -- similar -- a bit less pretty\n",
    "# myplt.draw_random_curves(curves.FractalPlant, \"curves_plant\", max_iters=5, num_curves=200)"
   ]
  },
  {
   "cell_type": "code",
   "execution_count": null,
   "metadata": {},
   "outputs": [],
   "source": [
    "myplt.draw_random_curves(curves.Dragon, \"curves_dragon\", max_iters=5, num_curves=200, curved=False)"
   ]
  }
 ],
 "metadata": {
  "kernelspec": {
   "display_name": "lsystems-7PSGQ62c-py3.11",
   "language": "python",
   "name": "python3"
  },
  "language_info": {
   "codemirror_mode": {
    "name": "ipython",
    "version": 3
   },
   "file_extension": ".py",
   "mimetype": "text/x-python",
   "name": "python",
   "nbconvert_exporter": "python",
   "pygments_lexer": "ipython3",
   "version": "3.11.0rc1"
  },
  "orig_nbformat": 4,
  "vscode": {
   "interpreter": {
    "hash": "4509c6ec7bd7711d6bd10e6b16c4d86d149c51fedb6cee736624d6c53363aeea"
   }
  }
 },
 "nbformat": 4,
 "nbformat_minor": 2
}
